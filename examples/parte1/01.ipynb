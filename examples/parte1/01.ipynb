{
 "cells": [
  {
   "cell_type": "markdown",
   "metadata": {
    "slideshow": {
     "slide_type": "slide"
    }
   },
   "source": [
    "## Revisao de tipos de dados e estruturas\n",
    "- Tipos de dados\n",
    " - Dinâmico e tipado\n",
    "   - decimal\n",
    "   - string\n",
    "   - None"
   ]
  },
  {
   "cell_type": "code",
   "execution_count": 13,
   "metadata": {
    "slideshow": {
     "slide_type": "slide"
    }
   },
   "outputs": [
    {
     "name": "stdout",
     "output_type": "stream",
     "text": [
      "None\n",
      "\n",
      "Python\n"
     ]
    }
   ],
   "source": [
    "# None é o null do Python, útil para inicialização, controle e comparação, para retorno e placeholder\n",
    "# Às vezes é melhor ser explícito e levantar exceção\n",
    "# import this \n",
    "variavel = None\n",
    "print(variavel)\n",
    "if not variavel:\n",
    "    variavel = ''\n",
    "print(variavel)\n",
    "if not variavel:\n",
    "    variavel = 'Python'\n",
    "if variavel:\n",
    "    print(variavel)\n",
    "\n"
   ]
  },
  {
   "cell_type": "code",
   "execution_count": 19,
   "metadata": {
    "slideshow": {
     "slide_type": "slide"
    }
   },
   "outputs": [
    {
     "name": "stdout",
     "output_type": "stream",
     "text": [
      "6 <class 'int'>\n",
      "6 <class 'float'>\n",
      "1.5 <class 'float'>\n",
      "1.0 <class 'float'>\n",
      "2.0 <class 'float'>\n"
     ]
    }
   ],
   "source": [
    "# tipos numericos\n",
    "i = 6\n",
    "f = 4.\n",
    "print(i, type(i))\n",
    "print(i, type(f))\n",
    "\n",
    "d = i / f\n",
    "d2 = i // f\n",
    "mod = i % f\n",
    "print(d, type(d))\n",
    "print(d2, type(d2))\n",
    "print(mod, type(mod))"
   ]
  },
  {
   "cell_type": "code",
   "execution_count": 21,
   "metadata": {
    "slideshow": {
     "slide_type": "slide"
    }
   },
   "outputs": [
    {
     "name": "stdout",
     "output_type": "stream",
     "text": [
      "6 <class 'int'>\n",
      "6 <class 'int'>\n",
      "1.5 <class 'float'>\n",
      "1 <class 'int'>\n",
      "2 <class 'int'>\n"
     ]
    }
   ],
   "source": [
    "i = 6\n",
    "f = 4\n",
    "print(i, type(i))\n",
    "print(i, type(f))\n",
    "\n",
    "d = i / f\n",
    "d2 = i // f\n",
    "mod = i % f\n",
    "print(d, type(d))\n",
    "print(d2, type(d2))\n",
    "print(mod, type(mod))"
   ]
  },
  {
   "cell_type": "markdown",
   "metadata": {
    "slideshow": {
     "slide_type": "slide"
    }
   },
   "source": [
    "### https://docs.python.org/2/library/decimal.html"
   ]
  },
  {
   "cell_type": "code",
   "execution_count": 25,
   "metadata": {
    "slideshow": {
     "slide_type": "subslide"
    }
   },
   "outputs": [
    {
     "name": "stdout",
     "output_type": "stream",
     "text": [
      "0.142857\n",
      "0.1428571428571428571428571429\n",
      "0.14285714285714285\n",
      "0.14285714285714285\n"
     ]
    }
   ],
   "source": [
    "from decimal import *\n",
    "getcontext().prec = 6\n",
    "print(Decimal(1) / Decimal(7))\n",
    "getcontext().prec = 28\n",
    "print(Decimal(1) / Decimal(7))\n",
    "print(1 / 7)\n",
    "print(1.0 / 7.0)"
   ]
  },
  {
   "cell_type": "code",
   "execution_count": 27,
   "metadata": {
    "slideshow": {
     "slide_type": "slide"
    }
   },
   "outputs": [
    {
     "name": "stdout",
     "output_type": "stream",
     "text": [
      "['1', '2']\n",
      "1 <class 'str'>\n",
      "1 <class 'int'>\n",
      "2 <class 'int'>\n",
      "3 <class 'int'>\n",
      "4 <class 'int'>\n",
      "5 <class 'int'>\n",
      "12345\n"
     ]
    }
   ],
   "source": [
    "# Duck typing\n",
    "variavel = [{'item': '1'}, {'item': '2'}]\n",
    "S = []\n",
    "for item in variavel:\n",
    "    S.append(item['item'])\n",
    "print(S)\n",
    "item1 = variavel[0]['item']\n",
    "print(item1, type(item1))\n",
    "\n",
    "variavel = [{'item': 1}, [{'subitem': 2}, {'subitem': 3}], {'item': [4, 5]}]\n",
    "def duck_walk(var, result=''):\n",
    "    if isinstance(var, list):\n",
    "        for item in var:\n",
    "            # print(item)\n",
    "            result += duck_walk(item)\n",
    "    elif isinstance(var, dict):\n",
    "        for k, v in var.items():\n",
    "            # print(v)\n",
    "            result += duck_walk(v)\n",
    "    elif isinstance(var, int):\n",
    "        print(var, type(var))\n",
    "        return str(var)\n",
    "    # print(result)\n",
    "    return result\n",
    "\n",
    "print(duck_walk(variavel))"
   ]
  },
  {
   "cell_type": "markdown",
   "metadata": {
    "slideshow": {
     "slide_type": "slide"
    }
   },
   "source": [
    "Para saber mais\n",
    "\n",
    "* https://realpython.com/python-data-types/\n",
    "\n",
    "* https://docs.python.org/3/library/datatypes.html"
   ]
  },
  {
   "cell_type": "markdown",
   "metadata": {
    "slideshow": {
     "slide_type": "slide"
    }
   },
   "source": [
    "- Estrutura de dados\n",
    " - Lists e Dicts\n",
    "    - collections\n",
    " - Serialização e deserialização\n",
    "    - JSON"
   ]
  },
  {
   "cell_type": "code",
   "execution_count": 28,
   "metadata": {
    "slideshow": {
     "slide_type": "subslide"
    }
   },
   "outputs": [
    {
     "name": "stdout",
     "output_type": "stream",
     "text": [
      "(1, 2, 3)\n",
      "[1, 2, 3]\n"
     ]
    },
    {
     "ename": "AttributeError",
     "evalue": "'tuple' object has no attribute 'append'",
     "traceback": [
      "\u001b[0;31m---------------------------------------------------------------------------\u001b[0m",
      "\u001b[0;31mAttributeError\u001b[0m                            Traceback (most recent call last)",
      "\u001b[0;32m<ipython-input-28-04f48b2dad9d>\u001b[0m in \u001b[0;36m<module>\u001b[0;34m\u001b[0m\n\u001b[1;32m      4\u001b[0m \u001b[0mprint\u001b[0m\u001b[0;34m(\u001b[0m\u001b[0mlista\u001b[0m\u001b[0;34m)\u001b[0m\u001b[0;34m\u001b[0m\u001b[0m\n\u001b[1;32m      5\u001b[0m \u001b[0mlista\u001b[0m\u001b[0;34m.\u001b[0m\u001b[0mappend\u001b[0m\u001b[0;34m(\u001b[0m\u001b[0;36m4\u001b[0m\u001b[0;34m)\u001b[0m\u001b[0;34m\u001b[0m\u001b[0m\n\u001b[0;32m----> 6\u001b[0;31m \u001b[0mtupla\u001b[0m\u001b[0;34m.\u001b[0m\u001b[0mappend\u001b[0m\u001b[0;34m(\u001b[0m\u001b[0;36m4\u001b[0m\u001b[0;34m)\u001b[0m\u001b[0;34m\u001b[0m\u001b[0m\n\u001b[0m",
      "\u001b[0;31mAttributeError\u001b[0m: 'tuple' object has no attribute 'append'"
     ],
     "output_type": "error"
    }
   ],
   "source": [
    "tupla = (1, 2, 3)\n",
    "lista = [1, 2, 3]\n",
    "print(tupla)\n",
    "print(lista)\n",
    "lista.append(4)\n",
    "tupla.append(4)"
   ]
  },
  {
   "cell_type": "code",
   "execution_count": 35,
   "metadata": {
    "slideshow": {
     "slide_type": "subslide"
    }
   },
   "outputs": [
    {
     "name": "stdout",
     "output_type": "stream",
     "text": [
      "dict_keys([1, 2, 3])\n",
      "dict_values([1, 2, 3])\n",
      "dict_items([(1, 1), (2, 2), (3, 3)])\n"
     ]
    }
   ],
   "source": [
    "dicionario = {1: 1, 2: 2, 3: 3}\n",
    "print(dicionario.keys())\n",
    "print(dicionario.values())\n",
    "print(dicionario.items())"
   ]
  },
  {
   "cell_type": "markdown",
   "metadata": {
    "slideshow": {
     "slide_type": "slide"
    }
   },
   "source": [
    "- Utilizando estruturas\n",
    "  - enumerate e zip\n",
    "  - sorted\n",
    "  - list compreension\n",
    "  - items(), keys, values\n",
    "  - datetime, dateutils, format, enum"
   ]
  },
  {
   "cell_type": "code",
   "execution_count": 30,
   "metadata": {
    "slideshow": {
     "slide_type": "subslide"
    }
   },
   "outputs": [
    {
     "name": "stdout",
     "output_type": "stream",
     "text": [
      "1\n",
      "2\n",
      "3\n",
      "4\n"
     ]
    }
   ],
   "source": [
    "for item in lista:\n",
    "    print(item)"
   ]
  },
  {
   "cell_type": "code",
   "execution_count": 32,
   "metadata": {
    "slideshow": {
     "slide_type": "subslide"
    }
   },
   "outputs": [
    {
     "name": "stdout",
     "output_type": "stream",
     "text": [
      "0 1\n",
      "1 2\n",
      "2 3\n",
      "3 4\n"
     ]
    }
   ],
   "source": [
    "for ind in range(len(lista)):\n",
    "    print(ind, lista[ind])"
   ]
  },
  {
   "cell_type": "code",
   "execution_count": 34,
   "metadata": {
    "slideshow": {
     "slide_type": "slide"
    }
   },
   "outputs": [
    {
     "name": "stdout",
     "output_type": "stream",
     "text": [
      "0 1\n",
      "1 2\n",
      "2 3\n",
      "3 4\n"
     ]
    }
   ],
   "source": [
    "for ind, item in enumerate(lista):\n",
    "    print(ind, item)"
   ]
  },
  {
   "cell_type": "code",
   "execution_count": 36,
   "metadata": {
    "slideshow": {
     "slide_type": "subslide"
    }
   },
   "outputs": [
    {
     "name": "stdout",
     "output_type": "stream",
     "text": [
      "1 1 1\n",
      "2 2 2\n",
      "3 3 3\n"
     ]
    }
   ],
   "source": [
    "for item, (key, value) in zip(lista, dicionario.items()):\n",
    "    print(item, key, value)"
   ]
  },
  {
   "cell_type": "code",
   "execution_count": 50,
   "metadata": {
    "slideshow": {
     "slide_type": "slide"
    }
   },
   "outputs": [],
   "source": [
    "nova_lista = [num for num in range(5)]\n",
    "novo_dict = {num:str(4 - num) for num in range(5)}"
   ]
  },
  {
   "cell_type": "code",
   "execution_count": 51,
   "metadata": {
    "slideshow": {
     "slide_type": "subslide"
    }
   },
   "outputs": [
    {
     "name": "stdout",
     "output_type": "stream",
     "text": [
      "[0, 1, 2, 3, 4]\n",
      "{0: '4', 1: '3', 2: '2', 3: '1', 4: '0'}\n"
     ]
    }
   ],
   "source": [
    "print(nova_lista)\n",
    "print(novo_dict)"
   ]
  },
  {
   "cell_type": "code",
   "execution_count": 52,
   "metadata": {
    "slideshow": {
     "slide_type": "slide"
    }
   },
   "outputs": [
    {
     "data": {
      "text/plain": [
       "[4, 3, 2, 1, 0]"
      ]
     },
     "execution_count": 52,
     "metadata": {},
     "output_type": "execute_result"
    }
   ],
   "source": [
    "sorted(nova_lista, reverse=True)"
   ]
  },
  {
   "cell_type": "code",
   "execution_count": 53,
   "metadata": {
    "slideshow": {
     "slide_type": "subslide"
    }
   },
   "outputs": [
    {
     "data": {
      "text/plain": [
       "[4, 3, 2, 1, 0]"
      ]
     },
     "execution_count": 53,
     "metadata": {},
     "output_type": "execute_result"
    }
   ],
   "source": [
    "sorted(novo_dict, reverse=True)"
   ]
  },
  {
   "cell_type": "code",
   "execution_count": 60,
   "metadata": {
    "slideshow": {
     "slide_type": "subslide"
    }
   },
   "outputs": [
    {
     "name": "stdout",
     "output_type": "stream",
     "text": [
      "[(4, '0'), (3, '1'), (2, '2'), (1, '3'), (0, '4')]\n",
      "<class 'list'>\n"
     ]
    }
   ],
   "source": [
    "teste = sorted(novo_dict.items(), reverse=True)\n",
    "print(teste)\n",
    "print(type(teste))"
   ]
  },
  {
   "cell_type": "code",
   "execution_count": 61,
   "metadata": {
    "slideshow": {
     "slide_type": "slide"
    }
   },
   "outputs": [],
   "source": [
    "from collections import OrderedDict"
   ]
  },
  {
   "cell_type": "code",
   "execution_count": 62,
   "metadata": {
    "slideshow": {
     "slide_type": "slide"
    }
   },
   "outputs": [
    {
     "data": {
      "text/plain": [
       "OrderedDict([(4, '0'), (3, '1'), (2, '2'), (1, '3'), (0, '4')])"
      ]
     },
     "execution_count": 62,
     "metadata": {},
     "output_type": "execute_result"
    }
   ],
   "source": [
    "OrderedDict(sorted(novo_dict.items(), reverse=True))"
   ]
  },
  {
   "cell_type": "code",
   "execution_count": 64,
   "metadata": {
    "slideshow": {
     "slide_type": "subslide"
    }
   },
   "outputs": [
    {
     "name": "stdout",
     "output_type": "stream",
     "text": [
      "OrderedDict([(0, '4'), (1, '3'), (2, '2'), (3, '1'), (4, '0')])\n",
      "<class 'collections.OrderedDict'>\n"
     ]
    }
   ],
   "source": [
    "teste2 = OrderedDict(sorted(novo_dict.items(), key=lambda x: x[1], reverse=True))\n",
    "print(teste2)\n",
    "print(type(teste2))"
   ]
  },
  {
   "cell_type": "code",
   "execution_count": 65,
   "metadata": {
    "slideshow": {
     "slide_type": "subslide"
    }
   },
   "outputs": [
    {
     "name": "stdout",
     "output_type": "stream",
     "text": [
      "0 4\n",
      "1 3\n",
      "2 2\n",
      "3 1\n",
      "4 0\n"
     ]
    }
   ],
   "source": [
    "for k, v in teste2.items():\n",
    "    print(k, v)"
   ]
  },
  {
   "cell_type": "code",
   "execution_count": 66,
   "metadata": {
    "slideshow": {
     "slide_type": "subslide"
    }
   },
   "outputs": [
    {
     "ename": "AttributeError",
     "evalue": "'list' object has no attribute 'items'",
     "traceback": [
      "\u001b[0;31m---------------------------------------------------------------------------\u001b[0m",
      "\u001b[0;31mAttributeError\u001b[0m                            Traceback (most recent call last)",
      "\u001b[0;32m<ipython-input-66-fc7228608cd9>\u001b[0m in \u001b[0;36m<module>\u001b[0;34m\u001b[0m\n\u001b[0;32m----> 1\u001b[0;31m \u001b[0;32mfor\u001b[0m \u001b[0mk\u001b[0m\u001b[0;34m,\u001b[0m \u001b[0mv\u001b[0m \u001b[0;32min\u001b[0m \u001b[0mteste\u001b[0m\u001b[0;34m.\u001b[0m\u001b[0mitems\u001b[0m\u001b[0;34m(\u001b[0m\u001b[0;34m)\u001b[0m\u001b[0;34m:\u001b[0m\u001b[0;34m\u001b[0m\u001b[0m\n\u001b[0m\u001b[1;32m      2\u001b[0m     \u001b[0mprint\u001b[0m\u001b[0;34m(\u001b[0m\u001b[0mk\u001b[0m\u001b[0;34m,\u001b[0m \u001b[0mv\u001b[0m\u001b[0;34m)\u001b[0m\u001b[0;34m\u001b[0m\u001b[0m\n",
      "\u001b[0;31mAttributeError\u001b[0m: 'list' object has no attribute 'items'"
     ],
     "output_type": "error"
    }
   ],
   "source": [
    "for k, v in teste.items():\n",
    "    print(k, v)"
   ]
  },
  {
   "cell_type": "code",
   "execution_count": 67,
   "metadata": {
    "slideshow": {
     "slide_type": "subslide"
    }
   },
   "outputs": [
    {
     "name": "stdout",
     "output_type": "stream",
     "text": [
      "3\n"
     ]
    }
   ],
   "source": [
    "print(teste2[1])"
   ]
  },
  {
   "cell_type": "code",
   "execution_count": null,
   "metadata": {},
   "outputs": [],
   "source": []
  }
 ],
 "metadata": {
  "celltoolbar": "Slideshow",
  "kernelspec": {
   "display_name": "Python 3",
   "language": "python",
   "name": "python3"
  },
  "language_info": {
   "codemirror_mode": {
    "name": "ipython",
    "version": 3
   },
   "file_extension": ".py",
   "mimetype": "text/x-python",
   "name": "python",
   "nbconvert_exporter": "python",
   "pygments_lexer": "ipython3",
   "version": "3.6.8"
  }
 },
 "nbformat": 4,
 "nbformat_minor": 2
}
