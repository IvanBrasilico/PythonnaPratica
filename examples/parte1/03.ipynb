{
 "cells": [
  {
   "cell_type": "markdown",
   "metadata": {
    "slideshow": {
     "slide_type": "slide"
    }
   },
   "source": [
    "- Arquitetura\n",
    "  - PEPs \n",
    "  - clean code\n",
    "  - modulos e microservicos\n",
    "  - cookiecutter\n",
    "  - pip (muito mais que baterias incluidas)\n",
    "  - setuptools\n",
    "  - setup.py\n",
    "  - venv\n",
    "  - (pyenv, pipenv -- novidades)\n",
    "  - tox\n",
    "  - CI/CD\n",
    "  - TDD\n",
    "  - pytest, unittest, behave\n",
    "  - flake8, black\n",
    "  - code complexity (clean code)\n",
    "  - code coverage\n",
    "  - documentação (sphinx autodoc)\n",
    "  \n",
    "https://github.com/IvanBrasilico/ade02rest"
   ]
  },
  {
   "cell_type": "markdown",
   "metadata": {
    "slideshow": {
     "slide_type": "slide"
    }
   },
   "source": [
    "- Design Patterns simplificados\n",
    "- Reflexão, introspecção, dinâmica\n",
    "- \"tudo\" é classe/objeto\n",
    "- multiparadigma\n",
    "    - POO\n",
    "        - Mixins\n",
    "    - funcional\n",
    "        - map, filter, etc\n",
    "- função como parâmetro\n",
    "- ponteiros de função e objeto\n",
    "- herança multipla, mixins\n",
    "- do some magic - getattr e setattr\n",
    "- https://stackoverflow.com/questions/3277367/how-does-pythons-super-work-with-multiple-inheritance\n",
    "- https://teamtreehouse.com/community/how-usermixin-and-class-inheritance-work\n",
    "- https://realpython.com/oop-in-python-vs-java/\n",
    "- pitfalls (sem almoço grátis)\n",
    "    - Code completion e check\n",
    "    - runtime error (sem compilação)\n",
    "- workarounds\n",
    "    - type hints e mypy\n",
    "    - testes unitarios e de qualidade"
   ]
  },
  {
   "cell_type": "code",
   "execution_count": 7,
   "metadata": {},
   "outputs": [
    {
     "name": "stdout",
     "output_type": "stream",
     "text": [
      "['O', 'rato', 'roeu,', 'a', 'roupa,', 'do', 'rei,', 'roendo,', 'de', 'roma.']\n",
      "['O', 'rato', 'roeu,', 'a', 'roupa,', 'do', 'rei,', 'roendo,', 'de', 'roma']\n",
      "['O', 'rato', 'roeu', 'a', 'roupa', 'do', 'rei', 'roendo', 'de', 'roma.']\n",
      "['O', 'rato', 'roeu', 'a', 'roupa', 'do', 'rei', 'roendo', 'de', 'roma']\n"
     ]
    }
   ],
   "source": [
    "def tira_pontos(frase: str)-> str:\n",
    "    return ''.join([letra for letra in frase if letra !='.'])\n",
    "\n",
    "def tira_virgulas(frase: str)-> str:\n",
    "    return frase.replace(',', '')\n",
    "\n",
    "def frase_para_lista(frase, func=None):\n",
    "    if func is not None:\n",
    "        if isinstance(func, list):\n",
    "            for funcs in func:\n",
    "                frase = funcs(frase)\n",
    "        else:\n",
    "            frase = func(frase)\n",
    "    return frase.split(' ')\n",
    "\n",
    "\n",
    "minha_frase = 'O rato roeu, a roupa, do rei, roendo, de roma.'\n",
    "\n",
    "\n",
    "print(frase_para_lista(minha_frase))\n",
    "print(frase_para_lista(minha_frase, func=tira_pontos))\n",
    "print(frase_para_lista(minha_frase, func=tira_virgulas))\n",
    "print(frase_para_lista(minha_frase, func=[tira_pontos, tira_virgulas]))"
   ]
  },
  {
   "cell_type": "code",
   "execution_count": 25,
   "metadata": {},
   "outputs": [
    {
     "name": "stdout",
     "output_type": "stream",
     "text": [
      "<__main__.Carro object at 0x7f750c710588>\n",
      "Uno 4\n",
      "Vou acionar minhas 4 rodas!!!\n",
      "<__main__.Aviao object at 0x7f750c710780>\n",
      "737 2\n",
      "Vou ligar os motores das 2 asas!!!\n"
     ]
    },
    {
     "ename": "AttributeError",
     "evalue": "'Carro' object has no attribute 'asas'",
     "output_type": "error",
     "traceback": [
      "\u001b[0;31m---------------------------------------------------------------------------\u001b[0m",
      "\u001b[0;31mAttributeError\u001b[0m                            Traceback (most recent call last)",
      "\u001b[0;32m<ipython-input-25-ff75ab42fc1a>\u001b[0m in \u001b[0;36m<module>\u001b[0;34m\u001b[0m\n\u001b[1;32m     27\u001b[0m \u001b[0mprint\u001b[0m\u001b[0;34m(\u001b[0m\u001b[0mboeing\u001b[0m\u001b[0;34m.\u001b[0m\u001b[0mnome\u001b[0m\u001b[0;34m,\u001b[0m \u001b[0mboeing\u001b[0m\u001b[0;34m.\u001b[0m\u001b[0masas\u001b[0m\u001b[0;34m)\u001b[0m\u001b[0;34m\u001b[0m\u001b[0m\n\u001b[1;32m     28\u001b[0m \u001b[0mboeing\u001b[0m\u001b[0;34m.\u001b[0m\u001b[0mvoar\u001b[0m\u001b[0;34m(\u001b[0m\u001b[0;34m)\u001b[0m\u001b[0;34m\u001b[0m\u001b[0m\n\u001b[0;32m---> 29\u001b[0;31m \u001b[0mprint\u001b[0m\u001b[0;34m(\u001b[0m\u001b[0mcarro\u001b[0m\u001b[0;34m.\u001b[0m\u001b[0masas\u001b[0m\u001b[0;34m)\u001b[0m\u001b[0;34m\u001b[0m\u001b[0m\n\u001b[0m",
      "\u001b[0;31mAttributeError\u001b[0m: 'Carro' object has no attribute 'asas'"
     ]
    }
   ],
   "source": [
    "class Veiculo:\n",
    "    def __init__(self, nome):\n",
    "        self.nome = nome\n",
    "    \n",
    "class Carro(Veiculo):\n",
    "    def __init__(self, nome, rodas):\n",
    "        self.nome = nome\n",
    "        self.rodas = rodas\n",
    "        \n",
    "    def rodar(self):\n",
    "        print('Vou acionar minhas %d rodas!!!' % self.rodas)\n",
    "        \n",
    "class Aviao(Veiculo):\n",
    "    def __init__(self, nome, asas):\n",
    "        super().__init__(nome)\n",
    "        self.asas = asas\n",
    "\n",
    "    def voar(self):\n",
    "        print('Vou ligar os motores das %d asas!!!' % self.asas)\n",
    "\n",
    "carro = Carro('Uno', 4)\n",
    "print(carro)\n",
    "print(carro.nome, carro.rodas)\n",
    "carro.rodar()\n",
    "boeing = Aviao('737', 2)\n",
    "print(boeing)\n",
    "print(boeing.nome, boeing.asas)\n",
    "boeing.voar()\n",
    "print(carro.asas)"
   ]
  },
  {
   "cell_type": "code",
   "execution_count": 26,
   "metadata": {},
   "outputs": [
    {
     "name": "stdout",
     "output_type": "stream",
     "text": [
      "Uno voador 4 2\n",
      "Vou acionar minhas 4 rodas!!!\n",
      "Vou ligar os motores das 2 asas!!!\n"
     ]
    }
   ],
   "source": [
    "class Hidroaviao(Carro, Aviao):\n",
    "    def __init__(self, nome, rodas, asas):\n",
    "        self.nome = nome\n",
    "        self.rodas = rodas\n",
    "        self.asas = asas\n",
    "\n",
    "carro = Hidroaviao('Uno voador', 4, 2)\n",
    "print(carro.nome, carro.rodas, carro.asas)\n",
    "carro.rodar()\n",
    "carro.voar()"
   ]
  },
  {
   "cell_type": "code",
   "execution_count": 27,
   "metadata": {},
   "outputs": [
    {
     "name": "stdout",
     "output_type": "stream",
     "text": [
      "Vou ligar os motores das 4 asas!!!\n"
     ]
    }
   ],
   "source": [
    "setattr(boeing, 'asas', 4)\n",
    "boeing.voar()"
   ]
  },
  {
   "cell_type": "code",
   "execution_count": 30,
   "metadata": {},
   "outputs": [
    {
     "name": "stdout",
     "output_type": "stream",
     "text": [
      "4\n",
      "None\n"
     ]
    }
   ],
   "source": [
    "# Instrospecção\n",
    "rodas = getattr(carro, 'rodas', None)\n",
    "print(rodas)\n",
    "rodas = getattr(boeing, 'rodas', None)\n",
    "print(rodas)"
   ]
  },
  {
   "cell_type": "code",
   "execution_count": 37,
   "metadata": {},
   "outputs": [
    {
     "name": "stdout",
     "output_type": "stream",
     "text": [
      "['rodar', 'voar']\n"
     ]
    }
   ],
   "source": [
    "print([atrrname for atrrname in dir(Hidroaviao) if not '__' in atrrname])"
   ]
  },
  {
   "cell_type": "code",
   "execution_count": 38,
   "metadata": {},
   "outputs": [
    {
     "name": "stdout",
     "output_type": "stream",
     "text": [
      "['asas', 'nome', 'rodar', 'rodas', 'voar']\n"
     ]
    }
   ],
   "source": [
    "print([atrrname for atrrname in dir(carro) if not '__' in atrrname])"
   ]
  },
  {
   "cell_type": "markdown",
   "metadata": {},
   "source": [
    "- Persistência/ORM\n",
    "  - open, write\n",
    "  - pickle\n",
    "  - json\n",
    "  - SQLAlchemy"
   ]
  },
  {
   "cell_type": "code",
   "execution_count": 39,
   "metadata": {},
   "outputs": [
    {
     "name": "stdout",
     "output_type": "stream",
     "text": [
      "{'carnes': {'alcatra': ['1kg moido', '1kg peça']}, 'vegetais': {'couve': '1kg', 'cenoura': '1 dúzia'}} <class 'dict'>\n",
      "{\"carnes\": {\"alcatra\": [\"1kg moido\", \"1kg pe\\u00e7a\"]}, \"vegetais\": {\"couve\": \"1kg\", \"cenoura\": \"1 d\\u00fazia\"}} <class 'str'>\n",
      "{'carnes': {'alcatra': ['1kg moido', '1kg peça']}, 'vegetais': {'couve': '1kg', 'cenoura': '1 dúzia'}} <class 'dict'>\n",
      "['1kg moido', '1kg peça'] <class 'list'>\n"
     ]
    }
   ],
   "source": [
    "# dict == json\n",
    "import json\n",
    "lista_compras = {'vegetais': {'couve': '1kg', 'cenoura': '1 dúzia'}, 'carnes': {'alcatra': ['1kg moido', '1kg peça']}}\n",
    "lista_json = json.dumps(lista_compras)\n",
    "\n",
    "print(lista_compras, type(lista_compras))\n",
    "print(lista_json, type(lista_json))\n",
    "lista_compras = json.loads(lista_json)\n",
    "print(lista_compras, type(lista_compras))\n",
    "carnes = lista_compras['carnes']['alcatra']\n",
    "print(carnes, type(carnes))\n"
   ]
  },
  {
   "cell_type": "markdown",
   "metadata": {},
   "source": [
    "- Desenvolvimento web\n",
    "  - Tutorial Flask\n",
    "  - Prática pequeno projeto web\n",
    "\n",
    "## Apresentando o fit-partners"
   ]
  },
  {
   "cell_type": "code",
   "execution_count": null,
   "metadata": {},
   "outputs": [],
   "source": []
  }
 ],
 "metadata": {
  "celltoolbar": "Slideshow",
  "kernelspec": {
   "display_name": "Python 3",
   "language": "python",
   "name": "python3"
  },
  "language_info": {
   "codemirror_mode": {
    "name": "ipython",
    "version": 3
   },
   "file_extension": ".py",
   "mimetype": "text/x-python",
   "name": "python",
   "nbconvert_exporter": "python",
   "pygments_lexer": "ipython3",
   "version": "3.5.2"
  }
 },
 "nbformat": 4,
 "nbformat_minor": 2
}
