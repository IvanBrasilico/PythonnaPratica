{
 "cells": [
  {
   "cell_type": "markdown",
   "metadata": {},
   "source": [
    "- Caracteristicas\n",
    "      - pitfalls\n",
    "        - GIL\n",
    "          - asyncio\n",
    "          - redis, celery, etc\n",
    "          - dask, numpy, tensorflow, cython\n",
    "        - dinâmico/otimização\n",
    "          - dificuldade de otimizar compilação\n",
    "          - nuitka\n",
    "          - Pypy\n",
    "          - cálculos vetorizados e Cython\n",
    "        - na prática, pouco impacto (Pareto)\n",
    "      - vantagens\n",
    "        - baterias incluidas\n",
    "        - pip/conda --> loja de aplicativos\n",
    "          - (baterias incluidas e acessorios a um clique)\n",
    "          - venv e modular evita dependency hell\n",
    "          - rodar pip freeze, criar venv, pip install, update, ==, >=, activate, deactivate, etc.        - import this\n",
    "        - dinamico\n",
    "        - conciso e coeso\n",
    "        - fluidez\n",
    "        - Porque Python\n",
    "          - Produtividade\n",
    "            - maximizar recurso\n",
    "          - Usabilidade e simplicidade\n",
    "            - focar no problema de negócio\n",
    "          - Concisão\n",
    "            - menos código, menos bugs\n",
    "          - Recurso humano >> recurso computacional\n",
    "            - economia inteligente\n",
    "          - Comunidade\n",
    "            - Principio de Linus\n",
    "            - \"Mercado\"\n"
   ]
  },
  {
   "cell_type": "code",
   "execution_count": 1,
   "metadata": {},
   "outputs": [],
   "source": [
    "import random\n",
    "import time\n",
    "import numpy as np"
   ]
  },
  {
   "cell_type": "code",
   "execution_count": 2,
   "metadata": {},
   "outputs": [
    {
     "name": "stdout",
     "output_type": "stream",
     "text": [
      "[6, 3, 5, 3, 2]\n",
      "[7, 10, 3, 5, 1]\n",
      "[13, 13, 8, 8, 3]\n",
      "2.743499517440796\n"
     ]
    }
   ],
   "source": [
    "s0 = time.time()\n",
    "lista1 = [random.randint(1, 10) for num in range(10**6)]\n",
    "lista2 = [random.randint(1, 10) for num in range(10**6)]\n",
    "lista3 = []\n",
    "for itemlista1, itemlista2 in zip(lista1, lista2):\n",
    "    lista3.append(itemlista1 + itemlista2)\n",
    "s1 = time.time()\n",
    "print(lista1[:5])\n",
    "print(lista2[:5])\n",
    "print(lista3[:5])\n",
    "for_time = s1 - s0\n",
    "print(for_time)"
   ]
  },
  {
   "cell_type": "code",
   "execution_count": 3,
   "metadata": {},
   "outputs": [
    {
     "name": "stdout",
     "output_type": "stream",
     "text": [
      "[4 5 8 8 1]\n",
      "[8 1 7 2 4]\n",
      "[12  6 15 10  5]\n",
      "0.07697129249572754\n"
     ]
    }
   ],
   "source": [
    "s0 = time.time()\n",
    "matrix1 = np.random.randint(1, 10, 10**6)\n",
    "matrix2 = np.random.randint(1, 10, 10**6)\n",
    "matrix3 = np.sum([matrix1, matrix2], axis=0)\n",
    "s1 = time.time()\n",
    "print(matrix1[:5])\n",
    "print(matrix2[:5])\n",
    "print(matrix3[:5])\n",
    "np_time = s1 - s0\n",
    "print(np_time)"
   ]
  },
  {
   "cell_type": "code",
   "execution_count": 4,
   "metadata": {},
   "outputs": [
    {
     "name": "stdout",
     "output_type": "stream",
     "text": [
      "35.64315251160788\n"
     ]
    }
   ],
   "source": [
    "print(for_time / np_time)"
   ]
  },
  {
   "cell_type": "code",
   "execution_count": 16,
   "metadata": {},
   "outputs": [
    {
     "name": "stdout",
     "output_type": "stream",
     "text": [
      "100 items\n",
      "0 Kb\n",
      "0.0005977153778076172\n",
      "1000 items\n",
      "1 Kb\n",
      "0.00037097930908203125\n",
      "10000 items\n",
      "10 Kb\n",
      "0.002354860305786133\n",
      "100000 items\n",
      "100 Kb\n",
      "0.005045652389526367\n",
      "1000000 items\n",
      "1000 Kb\n",
      "0.03474926948547363\n",
      "10000000 items\n",
      "10000 Kb\n",
      "0.27954697608947754\n",
      "100000000 items\n",
      "100000 Kb\n",
      "3.096463203430176\n",
      "1000000000 items\n",
      "1000000 Kb\n",
      "62.20497417449951\n"
     ]
    }
   ],
   "source": [
    "def matrix_sum(grandeza):\n",
    "    matrix1 = np.random.randint(1, 10, 10**grandeza, dtype=np.uint8)\n",
    "    matrix2 = np.random.randint(1, 10, 10**grandeza, dtype=np.uint8)\n",
    "    matrix3 = np.sum([matrix1, matrix2], axis=0, dtype=np.uint8)\n",
    "    print(\"%d items\" % matrix3.size)\n",
    "    print(\"%d Kb\" % ((matrix3.size * matrix3.itemsize) / 1000))\n",
    "    del matrix1, matrix2, matrix3\n",
    "    \n",
    "for grandeza in range(2, 9):\n",
    "    s0 = time.time()\n",
    "    matrix_sum(grandeza)\n",
    "    s1 = time.time()\n",
    "    print(s1 - s0)\n",
    "\n",
    "    "
   ]
  },
  {
   "cell_type": "code",
   "execution_count": null,
   "metadata": {},
   "outputs": [],
   "source": [
    "\n"
   ]
  }
 ],
 "metadata": {
  "kernelspec": {
   "display_name": "Python 3",
   "language": "python",
   "name": "python3"
  },
  "language_info": {
   "codemirror_mode": {
    "name": "ipython",
    "version": 3
   },
   "file_extension": ".py",
   "mimetype": "text/x-python",
   "name": "python",
   "nbconvert_exporter": "python",
   "pygments_lexer": "ipython3",
   "version": "3.5.2"
  }
 },
 "nbformat": 4,
 "nbformat_minor": 2
}
